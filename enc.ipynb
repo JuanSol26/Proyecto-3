{
  "nbformat": 4,
  "nbformat_minor": 0,
  "metadata": {
    "colab": {
      "provenance": [],
      "authorship_tag": "ABX9TyMK5SPHAmBY6uqJJtc0fZCj",
      "include_colab_link": true
    },
    "kernelspec": {
      "name": "python3",
      "display_name": "Python 3"
    },
    "language_info": {
      "name": "python"
    }
  },
  "cells": [
    {
      "cell_type": "markdown",
      "metadata": {
        "id": "view-in-github",
        "colab_type": "text"
      },
      "source": [
        "<a href=\"https://colab.research.google.com/github/JuanSol26/Proyecto-3/blob/main/enc.ipynb\" target=\"_parent\"><img src=\"https://colab.research.google.com/assets/colab-badge.svg\" alt=\"Open In Colab\"/></a>"
      ]
    },
    {
      "cell_type": "code",
      "execution_count": 1,
      "metadata": {
        "id": "slSdDvd71Q06"
      },
      "outputs": [],
      "source": [
        "import pandas as pd\n",
        "import numpy as np\n",
        "import matplotlib.pyplot as plt\n",
        "import seaborn as sns\n",
        "import warnings\n",
        "warnings.filterwarnings (\"ignore\")\n",
        "import scipy.stats as stats\n",
        "from datetime import datetime\n",
        "from scipy.stats import chi2_contingency"
      ]
    },
    {
      "cell_type": "code",
      "source": [
        "url = \"https://github.com/JuanSol26/Proyecto-3/raw/refs/heads/main/Excel%20(1).xlsx\"\n",
        "df = pd.read_excel(url)"
      ],
      "metadata": {
        "id": "YM2YL80c1W8u"
      },
      "execution_count": 68,
      "outputs": []
    },
    {
      "cell_type": "code",
      "source": [
        "df.info()"
      ],
      "metadata": {
        "colab": {
          "base_uri": "https://localhost:8080/"
        },
        "id": "D9J7QQcr3VKc",
        "outputId": "0497326f-8316-47ba-cea7-b00c608bd1d9"
      },
      "execution_count": 67,
      "outputs": [
        {
          "output_type": "stream",
          "name": "stdout",
          "text": [
            "<class 'pandas.core.frame.DataFrame'>\n",
            "RangeIndex: 4000 entries, 0 to 3999\n",
            "Data columns (total 49 columns):\n",
            " #   Column            Non-Null Count  Dtype  \n",
            "---  ------            --------------  -----  \n",
            " 0   ID                4000 non-null   int64  \n",
            " 1   Edad              4000 non-null   int64  \n",
            " 2   Grup              4000 non-null   int64  \n",
            " 3   Provincia         4000 non-null   int64  \n",
            " 4   Estudios          0 non-null      float64\n",
            " 5   Salud             4000 non-null   int64  \n",
            " 6   Interes           4000 non-null   int64  \n",
            " 7   Voto              4000 non-null   int64  \n",
            " 8   Voto bal          4000 non-null   int64  \n",
            " 9   Evaluaciòn        4000 non-null   int64  \n",
            " 10  Evaluacion prov   4000 non-null   int64  \n",
            " 11  Eval eco          4000 non-null   int64  \n",
            " 12  Eval per          4000 non-null   int64  \n",
            " 13  Aprobaciòn nac    4000 non-null   int64  \n",
            " 14  Aprob Prov        4000 non-null   int64  \n",
            " 15  Nac 1             4000 non-null   int64  \n",
            " 16  Nac 2             4000 non-null   int64  \n",
            " 17  Nac 3             4000 non-null   int64  \n",
            " 18  Nac 4             4000 non-null   int64  \n",
            " 19  Nac 5             4000 non-null   int64  \n",
            " 20  Prov 1            4000 non-null   int64  \n",
            " 21  Prov 2            4000 non-null   int64  \n",
            " 22  Prov 3            4000 non-null   int64  \n",
            " 23  Prov 4            4000 non-null   int64  \n",
            " 24  Prov 5            4000 non-null   int64  \n",
            " 25  Pol 1             4000 non-null   int64  \n",
            " 26  Pol 2             4000 non-null   int64  \n",
            " 27  Pol 3             4000 non-null   int64  \n",
            " 28  Pol 4             4000 non-null   int64  \n",
            " 29  Pol 5             4000 non-null   int64  \n",
            " 30  Pol 6             4000 non-null   int64  \n",
            " 31  Pol 7             4000 non-null   int64  \n",
            " 32  Pol 8             4000 non-null   int64  \n",
            " 33  Aprobaciòn nac.1  4000 non-null   int64  \n",
            " 34  Aprob Prov.1      4000 non-null   int64  \n",
            " 35  Predic nac        4000 non-null   int64  \n",
            " 36  Predic prov       4000 non-null   int64  \n",
            " 37  Id 1              4000 non-null   int64  \n",
            " 38  Id 2              4000 non-null   int64  \n",
            " 39  Id 3              4000 non-null   int64  \n",
            " 40  Id 4              4000 non-null   int64  \n",
            " 41  Gob o Op          4000 non-null   int64  \n",
            " 42  Gob o Op prov     4000 non-null   int64  \n",
            " 43  Tipo              4000 non-null   int64  \n",
            " 44  Hog               4000 non-null   int64  \n",
            " 45  Hog 2             4000 non-null   int64  \n",
            " 46  Hog 3             4000 non-null   int64  \n",
            " 47  Ing               3387 non-null   float64\n",
            " 48  Gen               4000 non-null   int64  \n",
            "dtypes: float64(2), int64(47)\n",
            "memory usage: 1.5 MB\n"
          ]
        }
      ]
    },
    {
      "cell_type": "code",
      "source": [
        "df.rename(columns={'Voto ': \"Voto\"}, inplace=True)\n",
        "df.rename(columns={'Calificaciòn 1_nac': \"Nac 1\"}, inplace=True)\n",
        "df.rename(columns={'Calificaciòn 2_nac': \"Nac 2\"}, inplace=True)\n",
        "df.rename(columns={'Calificaciòn 3_nac': \"Nac 3\"}, inplace=True)\n",
        "df.rename(columns={'Calificaciòn 4_nac': \"Nac 4\"}, inplace=True)\n",
        "df.rename(columns={'Calificaciòn 5_nac': \"Nac 5\"}, inplace=True)\n",
        "df.rename(columns={'Calificaciòn 1_prov': \"Prov 1\"}, inplace=True)\n",
        "df.rename(columns={'Calificaciòn 2_prov': \"Prov 2\"}, inplace=True)\n",
        "df.rename(columns={'Calificaciòn 3_prov': \"Prov 3\"}, inplace=True)\n",
        "df.rename(columns={'Calificaciòn 4_prov': \"Prov 4\"}, inplace=True)\n",
        "df.rename(columns={'Calificaciòn 5_prov': \"Prov 5\"}, inplace=True)\n",
        "df.rename(columns={'Tipo ': \"Tipo\"}, inplace=True)\n"
      ],
      "metadata": {
        "id": "xV_uJr8M5uRs"
      },
      "execution_count": 69,
      "outputs": []
    },
    {
      "cell_type": "code",
      "source": [
        "df_ind = df[[\"ID\", \"Edad\", \"Grup\", \"Provincia\", \"Estudios\", \"Salud\", \"Interes\"]]\n",
        "df_vot = df[[\"ID\", \"Voto\", \"Voto bal\", \"Evaluaciòn\", \"Evaluacion prov\", \"Eval eco\", \"Eval per\"]]\n",
        "df_pol = df[[\"ID\", \"Aprobaciòn nac\", \"Aprob Prov\", \"Nac 1\", \"Nac 2\", \"Nac 3\", \"Nac 4\", \"Nac 5\", \"Prov 1\", \"Prov 2\", \"Prov 3\", \"Prov 4\", \"Prov 5\" ]]\n",
        "df_pol2 = df[[\"ID\", \"Pol 1\", \"Pol 2\", \"Pol 3\", \"Pol 4\", \"Pol 5\", \"Pol 6\", \"Pol 7\", \"Pol 8\"]]\n",
        "df_vot2 = df[[\"ID\", \"Aprobaciòn nac.1\", \"Aprob Prov.1\", \"Predic nac\", \"Predic prov\", \"Gob o Op\", \"Gob o Op prov\"]]\n",
        "df_idl = df[[\"ID\", \"Id 1\", \"Id 2\", \"Id 3\", \"Id 4\"]]\n",
        "df_hog = df[[\"ID\", \"Tipo\", \"Hog\", \"Hog 2\", \"Hog 3\", \"Ing\", \"Gen\"]]"
      ],
      "metadata": {
        "id": "DZ4k6ghI3fSD"
      },
      "execution_count": 70,
      "outputs": []
    },
    {
      "cell_type": "code",
      "source": [
        "df_ind[\"ID\"] = df_ind[\"ID\"].astype(np.int16)\n",
        "df_ind[\"Edad\"] = df_ind[\"Edad\"].astype(np.int16)\n",
        "df_ind[\"Grup\"] = df_ind[\"Grup\"].astype(np.int16)\n",
        "df_ind[\"Provincia\"] = df_ind[\"Provincia\"].astype(np.int16)\n",
        "df_ind[\"Salud\"] = df_ind[\"Salud\"].astype(np.int16)\n",
        "df_ind[\"Interes\"] = df_ind[\"Interes\"].astype(np.int16)"
      ],
      "metadata": {
        "id": "B1PWr2C69tPz"
      },
      "execution_count": 71,
      "outputs": []
    },
    {
      "cell_type": "code",
      "source": [
        "df_vot[\"ID\"] = df_vot[\"ID\"].astype(np.int16)\n",
        "df_vot[\"Voto\"] = df_vot[\"Voto\"].astype(np.int16)\n",
        "df_vot[\"Voto bal\"] = df_vot[\"Voto bal\"].astype(np.int16)\n",
        "df_vot[\"Evaluaciòn\"] = df_vot[\"Evaluaciòn\"].astype(np.int16)\n",
        "df_vot[\"Evaluacion prov\"] =df_vot[\"Evaluacion prov\"].astype(np.int16)\n",
        "df_vot[\"Eval eco\"] = df_vot[\"Eval eco\"].astype(np.int16)\n",
        "df_vot[\"Eval per\"] = df_vot[\"Eval per\"].astype(np.int16)"
      ],
      "metadata": {
        "id": "VFvTE6EQ-Kur"
      },
      "execution_count": 76,
      "outputs": []
    },
    {
      "cell_type": "code",
      "source": [
        "df_pol[\"ID\"] = df_pol[\"ID\"].astype(np.int16)\n",
        "df_pol[\"Aprobaciòn nac\"] = df_pol[\"Aprobaciòn nac\"].astype(np.int16)\n",
        "df_pol[\"Aprob Prov\"] = df_pol[\"Aprob Prov\"].astype(np.int16)\n",
        "df_pol[\"Nac 1\"] = df_pol[\"Nac 1\"].astype(np.int16)\n",
        "df_pol[\"Nac 2\"] = df_pol[\"Nac 2\"].astype(np.int16)\n",
        "df_pol[\"Nac 3\"] = df_pol[\"Nac 3\"].astype(np.int16)\n",
        "df_pol[\"Nac 4\"] = df_pol[\"Nac 4\"].astype(np.int16)\n",
        "df_pol[\"Nac 5\"] = df_pol[\"Nac 5\"].astype(np.int16)\n",
        "df_pol[\"Prov 1\"] = df_pol[\"Prov 1\"].astype(np.int16)\n",
        "df_pol[\"Prov 2\"] = df_pol[\"Prov 2\"].astype(np.int16)\n",
        "df_pol[\"Prov 3\"] = df_pol[\"Prov 3\"].astype(np.int16)\n",
        "df_pol[\"Prov 4\"] = df_pol[\"Prov 4\"].astype(np.int16)\n",
        "df_pol[\"Prov 5\"] = df_pol[\"Prov 5\"].astype(np.int16)"
      ],
      "metadata": {
        "id": "kEbNnICw_QgV"
      },
      "execution_count": 80,
      "outputs": []
    },
    {
      "cell_type": "code",
      "source": [
        "df_pol2[\"ID\"] = df_pol2[\"ID\"].astype(np.int16)\n",
        "df_pol2[\"Pol 1\"] = df_pol2[\"Pol 1\"].astype(np.int16)\n",
        "df_pol2[\"Pol 2\"] = df_pol2[\"Pol 2\"].astype(np.int16)\n",
        "df_pol2[\"Pol 3\"] = df_pol2[\"Pol 3\"].astype(np.int16)\n",
        "df_pol2[\"Pol 4\"] = df_pol2[\"Pol 4\"].astype(np.int16)\n",
        "df_pol2[\"Pol 5\"] = df_pol2[\"Pol 5\"].astype(np.int16)\n",
        "df_pol2[\"Pol 6\"] = df_pol2[\"Pol 6\"].astype(np.int16)\n",
        "df_pol2[\"Pol 7\"] = df_pol2[\"Pol 7\"].astype(np.int16)\n",
        "df_pol2[\"Pol 8\"] = df_pol2[\"Pol 8\"].astype(np.int16)"
      ],
      "metadata": {
        "id": "5z0-lfxk_yRu"
      },
      "execution_count": 83,
      "outputs": []
    },
    {
      "cell_type": "code",
      "source": [
        "df_vot2[\"ID\"] = df_vot2[\"ID\"].astype(np.int16)\n",
        "df_vot2[\"Aprobaciòn nac.1\"] = df_vot2[\"Aprobaciòn nac.1\"].astype(np.int16)\n",
        "df_vot2[\"Aprob Prov.1\"] = df_vot2[\"Aprob Prov.1\"].astype(np.int16)\n",
        "df_vot2[\"Predic nac\"] = df_vot2[\"Predic nac\"].astype(np.int16)\n",
        "df_vot2[\"Predic prov\"] = df_vot2[\"Predic prov\"].astype(np.int16)\n",
        "df_vot2[\"Gob o Op\"] = df_vot2[\"Gob o Op\"].astype(np.int16)\n",
        "df_vot2[\"Gob o Op prov\"] = df_vot2[\"Gob o Op prov\"].astype(np.int16)"
      ],
      "metadata": {
        "id": "iK3SjPtEAODV"
      },
      "execution_count": 86,
      "outputs": []
    },
    {
      "cell_type": "code",
      "source": [
        "df_idl[\"ID\"] = df_idl[\"ID\"].astype(np.int16)\n",
        "df_idl[\"Id 1\"] = df_idl[\"Id 1\"].astype(np.int16)\n",
        "df_idl[\"Id 2\"] = df_idl[\"Id 2\"].astype(np.int16)\n",
        "df_idl[\"Id 3\"] = df_idl[\"Id 3\"].astype(np.int16)\n",
        "df_idl[\"Id 4\"]= df_idl[\"Id 4\"].astype(np.int16)"
      ],
      "metadata": {
        "id": "Jw5hcnGPAndT"
      },
      "execution_count": 90,
      "outputs": []
    },
    {
      "cell_type": "code",
      "source": [
        "df_hog[\"ID\"]= df_hog[\"ID\"].astype(np.int16)\n",
        "df_hog[\"Tipo\"] = df_hog[\"Tipo\"].astype(np.int16)\n",
        "df_hog[\"Hog\"] = df_hog[\"Hog\"].astype(np.int16)\n",
        "df_hog[\"Hog 2\"] = df_hog[\"Hog 2\"].astype(np.int16)\n",
        "df_hog[\"Hog 3\"] = df_hog[\"Hog 3\"].astype(np.int16)\n",
        "df_hog[\"Gen\"] = df_hog[\"Gen\"].astype(np.int16)"
      ],
      "metadata": {
        "id": "Vccw5IvwBIK0"
      },
      "execution_count": 94,
      "outputs": []
    },
    {
      "cell_type": "markdown",
      "source": [
        "Individuos"
      ],
      "metadata": {
        "id": "YnX4DVdiBkUz"
      }
    },
    {
      "cell_type": "code",
      "source": [
        "df_ind.describe().round(0)"
      ],
      "metadata": {
        "colab": {
          "base_uri": "https://localhost:8080/",
          "height": 300
        },
        "id": "OHu5MF4UBaaD",
        "outputId": "9a72c1c2-4089-434b-f31b-dd34724d9642"
      },
      "execution_count": 97,
      "outputs": [
        {
          "output_type": "execute_result",
          "data": {
            "text/plain": [
              "           ID    Edad    Grup  Provincia  Estudios   Salud  Interes\n",
              "count  4000.0  4000.0  4000.0     4000.0       0.0  4000.0   4000.0\n",
              "mean   2000.0    47.0     2.0        6.0       NaN     3.0      3.0\n",
              "std    1155.0    18.0     1.0        3.0       NaN     1.0      1.0\n",
              "min       1.0    18.0     1.0        1.0       NaN     1.0      1.0\n",
              "25%    1001.0    30.0     2.0        3.0       NaN     2.0      2.0\n",
              "50%    2000.0    46.0     2.0        6.0       NaN     3.0      3.0\n",
              "75%    3000.0    63.0     3.0        8.0       NaN     4.0      4.0\n",
              "max    4000.0    80.0     3.0        9.0       NaN     4.0      5.0"
            ],
            "text/html": [
              "\n",
              "  <div id=\"df-ec00ec67-1000-4f97-bdce-9f3bee3045bc\" class=\"colab-df-container\">\n",
              "    <div>\n",
              "<style scoped>\n",
              "    .dataframe tbody tr th:only-of-type {\n",
              "        vertical-align: middle;\n",
              "    }\n",
              "\n",
              "    .dataframe tbody tr th {\n",
              "        vertical-align: top;\n",
              "    }\n",
              "\n",
              "    .dataframe thead th {\n",
              "        text-align: right;\n",
              "    }\n",
              "</style>\n",
              "<table border=\"1\" class=\"dataframe\">\n",
              "  <thead>\n",
              "    <tr style=\"text-align: right;\">\n",
              "      <th></th>\n",
              "      <th>ID</th>\n",
              "      <th>Edad</th>\n",
              "      <th>Grup</th>\n",
              "      <th>Provincia</th>\n",
              "      <th>Estudios</th>\n",
              "      <th>Salud</th>\n",
              "      <th>Interes</th>\n",
              "    </tr>\n",
              "  </thead>\n",
              "  <tbody>\n",
              "    <tr>\n",
              "      <th>count</th>\n",
              "      <td>4000.0</td>\n",
              "      <td>4000.0</td>\n",
              "      <td>4000.0</td>\n",
              "      <td>4000.0</td>\n",
              "      <td>0.0</td>\n",
              "      <td>4000.0</td>\n",
              "      <td>4000.0</td>\n",
              "    </tr>\n",
              "    <tr>\n",
              "      <th>mean</th>\n",
              "      <td>2000.0</td>\n",
              "      <td>47.0</td>\n",
              "      <td>2.0</td>\n",
              "      <td>6.0</td>\n",
              "      <td>NaN</td>\n",
              "      <td>3.0</td>\n",
              "      <td>3.0</td>\n",
              "    </tr>\n",
              "    <tr>\n",
              "      <th>std</th>\n",
              "      <td>1155.0</td>\n",
              "      <td>18.0</td>\n",
              "      <td>1.0</td>\n",
              "      <td>3.0</td>\n",
              "      <td>NaN</td>\n",
              "      <td>1.0</td>\n",
              "      <td>1.0</td>\n",
              "    </tr>\n",
              "    <tr>\n",
              "      <th>min</th>\n",
              "      <td>1.0</td>\n",
              "      <td>18.0</td>\n",
              "      <td>1.0</td>\n",
              "      <td>1.0</td>\n",
              "      <td>NaN</td>\n",
              "      <td>1.0</td>\n",
              "      <td>1.0</td>\n",
              "    </tr>\n",
              "    <tr>\n",
              "      <th>25%</th>\n",
              "      <td>1001.0</td>\n",
              "      <td>30.0</td>\n",
              "      <td>2.0</td>\n",
              "      <td>3.0</td>\n",
              "      <td>NaN</td>\n",
              "      <td>2.0</td>\n",
              "      <td>2.0</td>\n",
              "    </tr>\n",
              "    <tr>\n",
              "      <th>50%</th>\n",
              "      <td>2000.0</td>\n",
              "      <td>46.0</td>\n",
              "      <td>2.0</td>\n",
              "      <td>6.0</td>\n",
              "      <td>NaN</td>\n",
              "      <td>3.0</td>\n",
              "      <td>3.0</td>\n",
              "    </tr>\n",
              "    <tr>\n",
              "      <th>75%</th>\n",
              "      <td>3000.0</td>\n",
              "      <td>63.0</td>\n",
              "      <td>3.0</td>\n",
              "      <td>8.0</td>\n",
              "      <td>NaN</td>\n",
              "      <td>4.0</td>\n",
              "      <td>4.0</td>\n",
              "    </tr>\n",
              "    <tr>\n",
              "      <th>max</th>\n",
              "      <td>4000.0</td>\n",
              "      <td>80.0</td>\n",
              "      <td>3.0</td>\n",
              "      <td>9.0</td>\n",
              "      <td>NaN</td>\n",
              "      <td>4.0</td>\n",
              "      <td>5.0</td>\n",
              "    </tr>\n",
              "  </tbody>\n",
              "</table>\n",
              "</div>\n",
              "    <div class=\"colab-df-buttons\">\n",
              "\n",
              "  <div class=\"colab-df-container\">\n",
              "    <button class=\"colab-df-convert\" onclick=\"convertToInteractive('df-ec00ec67-1000-4f97-bdce-9f3bee3045bc')\"\n",
              "            title=\"Convert this dataframe to an interactive table.\"\n",
              "            style=\"display:none;\">\n",
              "\n",
              "  <svg xmlns=\"http://www.w3.org/2000/svg\" height=\"24px\" viewBox=\"0 -960 960 960\">\n",
              "    <path d=\"M120-120v-720h720v720H120Zm60-500h600v-160H180v160Zm220 220h160v-160H400v160Zm0 220h160v-160H400v160ZM180-400h160v-160H180v160Zm440 0h160v-160H620v160ZM180-180h160v-160H180v160Zm440 0h160v-160H620v160Z\"/>\n",
              "  </svg>\n",
              "    </button>\n",
              "\n",
              "  <style>\n",
              "    .colab-df-container {\n",
              "      display:flex;\n",
              "      gap: 12px;\n",
              "    }\n",
              "\n",
              "    .colab-df-convert {\n",
              "      background-color: #E8F0FE;\n",
              "      border: none;\n",
              "      border-radius: 50%;\n",
              "      cursor: pointer;\n",
              "      display: none;\n",
              "      fill: #1967D2;\n",
              "      height: 32px;\n",
              "      padding: 0 0 0 0;\n",
              "      width: 32px;\n",
              "    }\n",
              "\n",
              "    .colab-df-convert:hover {\n",
              "      background-color: #E2EBFA;\n",
              "      box-shadow: 0px 1px 2px rgba(60, 64, 67, 0.3), 0px 1px 3px 1px rgba(60, 64, 67, 0.15);\n",
              "      fill: #174EA6;\n",
              "    }\n",
              "\n",
              "    .colab-df-buttons div {\n",
              "      margin-bottom: 4px;\n",
              "    }\n",
              "\n",
              "    [theme=dark] .colab-df-convert {\n",
              "      background-color: #3B4455;\n",
              "      fill: #D2E3FC;\n",
              "    }\n",
              "\n",
              "    [theme=dark] .colab-df-convert:hover {\n",
              "      background-color: #434B5C;\n",
              "      box-shadow: 0px 1px 3px 1px rgba(0, 0, 0, 0.15);\n",
              "      filter: drop-shadow(0px 1px 2px rgba(0, 0, 0, 0.3));\n",
              "      fill: #FFFFFF;\n",
              "    }\n",
              "  </style>\n",
              "\n",
              "    <script>\n",
              "      const buttonEl =\n",
              "        document.querySelector('#df-ec00ec67-1000-4f97-bdce-9f3bee3045bc button.colab-df-convert');\n",
              "      buttonEl.style.display =\n",
              "        google.colab.kernel.accessAllowed ? 'block' : 'none';\n",
              "\n",
              "      async function convertToInteractive(key) {\n",
              "        const element = document.querySelector('#df-ec00ec67-1000-4f97-bdce-9f3bee3045bc');\n",
              "        const dataTable =\n",
              "          await google.colab.kernel.invokeFunction('convertToInteractive',\n",
              "                                                    [key], {});\n",
              "        if (!dataTable) return;\n",
              "\n",
              "        const docLinkHtml = 'Like what you see? Visit the ' +\n",
              "          '<a target=\"_blank\" href=https://colab.research.google.com/notebooks/data_table.ipynb>data table notebook</a>'\n",
              "          + ' to learn more about interactive tables.';\n",
              "        element.innerHTML = '';\n",
              "        dataTable['output_type'] = 'display_data';\n",
              "        await google.colab.output.renderOutput(dataTable, element);\n",
              "        const docLink = document.createElement('div');\n",
              "        docLink.innerHTML = docLinkHtml;\n",
              "        element.appendChild(docLink);\n",
              "      }\n",
              "    </script>\n",
              "  </div>\n",
              "\n",
              "\n",
              "<div id=\"df-05ebba95-632e-4564-b6b5-cf8add82b73e\">\n",
              "  <button class=\"colab-df-quickchart\" onclick=\"quickchart('df-05ebba95-632e-4564-b6b5-cf8add82b73e')\"\n",
              "            title=\"Suggest charts\"\n",
              "            style=\"display:none;\">\n",
              "\n",
              "<svg xmlns=\"http://www.w3.org/2000/svg\" height=\"24px\"viewBox=\"0 0 24 24\"\n",
              "     width=\"24px\">\n",
              "    <g>\n",
              "        <path d=\"M19 3H5c-1.1 0-2 .9-2 2v14c0 1.1.9 2 2 2h14c1.1 0 2-.9 2-2V5c0-1.1-.9-2-2-2zM9 17H7v-7h2v7zm4 0h-2V7h2v10zm4 0h-2v-4h2v4z\"/>\n",
              "    </g>\n",
              "</svg>\n",
              "  </button>\n",
              "\n",
              "<style>\n",
              "  .colab-df-quickchart {\n",
              "      --bg-color: #E8F0FE;\n",
              "      --fill-color: #1967D2;\n",
              "      --hover-bg-color: #E2EBFA;\n",
              "      --hover-fill-color: #174EA6;\n",
              "      --disabled-fill-color: #AAA;\n",
              "      --disabled-bg-color: #DDD;\n",
              "  }\n",
              "\n",
              "  [theme=dark] .colab-df-quickchart {\n",
              "      --bg-color: #3B4455;\n",
              "      --fill-color: #D2E3FC;\n",
              "      --hover-bg-color: #434B5C;\n",
              "      --hover-fill-color: #FFFFFF;\n",
              "      --disabled-bg-color: #3B4455;\n",
              "      --disabled-fill-color: #666;\n",
              "  }\n",
              "\n",
              "  .colab-df-quickchart {\n",
              "    background-color: var(--bg-color);\n",
              "    border: none;\n",
              "    border-radius: 50%;\n",
              "    cursor: pointer;\n",
              "    display: none;\n",
              "    fill: var(--fill-color);\n",
              "    height: 32px;\n",
              "    padding: 0;\n",
              "    width: 32px;\n",
              "  }\n",
              "\n",
              "  .colab-df-quickchart:hover {\n",
              "    background-color: var(--hover-bg-color);\n",
              "    box-shadow: 0 1px 2px rgba(60, 64, 67, 0.3), 0 1px 3px 1px rgba(60, 64, 67, 0.15);\n",
              "    fill: var(--button-hover-fill-color);\n",
              "  }\n",
              "\n",
              "  .colab-df-quickchart-complete:disabled,\n",
              "  .colab-df-quickchart-complete:disabled:hover {\n",
              "    background-color: var(--disabled-bg-color);\n",
              "    fill: var(--disabled-fill-color);\n",
              "    box-shadow: none;\n",
              "  }\n",
              "\n",
              "  .colab-df-spinner {\n",
              "    border: 2px solid var(--fill-color);\n",
              "    border-color: transparent;\n",
              "    border-bottom-color: var(--fill-color);\n",
              "    animation:\n",
              "      spin 1s steps(1) infinite;\n",
              "  }\n",
              "\n",
              "  @keyframes spin {\n",
              "    0% {\n",
              "      border-color: transparent;\n",
              "      border-bottom-color: var(--fill-color);\n",
              "      border-left-color: var(--fill-color);\n",
              "    }\n",
              "    20% {\n",
              "      border-color: transparent;\n",
              "      border-left-color: var(--fill-color);\n",
              "      border-top-color: var(--fill-color);\n",
              "    }\n",
              "    30% {\n",
              "      border-color: transparent;\n",
              "      border-left-color: var(--fill-color);\n",
              "      border-top-color: var(--fill-color);\n",
              "      border-right-color: var(--fill-color);\n",
              "    }\n",
              "    40% {\n",
              "      border-color: transparent;\n",
              "      border-right-color: var(--fill-color);\n",
              "      border-top-color: var(--fill-color);\n",
              "    }\n",
              "    60% {\n",
              "      border-color: transparent;\n",
              "      border-right-color: var(--fill-color);\n",
              "    }\n",
              "    80% {\n",
              "      border-color: transparent;\n",
              "      border-right-color: var(--fill-color);\n",
              "      border-bottom-color: var(--fill-color);\n",
              "    }\n",
              "    90% {\n",
              "      border-color: transparent;\n",
              "      border-bottom-color: var(--fill-color);\n",
              "    }\n",
              "  }\n",
              "</style>\n",
              "\n",
              "  <script>\n",
              "    async function quickchart(key) {\n",
              "      const quickchartButtonEl =\n",
              "        document.querySelector('#' + key + ' button');\n",
              "      quickchartButtonEl.disabled = true;  // To prevent multiple clicks.\n",
              "      quickchartButtonEl.classList.add('colab-df-spinner');\n",
              "      try {\n",
              "        const charts = await google.colab.kernel.invokeFunction(\n",
              "            'suggestCharts', [key], {});\n",
              "      } catch (error) {\n",
              "        console.error('Error during call to suggestCharts:', error);\n",
              "      }\n",
              "      quickchartButtonEl.classList.remove('colab-df-spinner');\n",
              "      quickchartButtonEl.classList.add('colab-df-quickchart-complete');\n",
              "    }\n",
              "    (() => {\n",
              "      let quickchartButtonEl =\n",
              "        document.querySelector('#df-05ebba95-632e-4564-b6b5-cf8add82b73e button');\n",
              "      quickchartButtonEl.style.display =\n",
              "        google.colab.kernel.accessAllowed ? 'block' : 'none';\n",
              "    })();\n",
              "  </script>\n",
              "</div>\n",
              "\n",
              "    </div>\n",
              "  </div>\n"
            ],
            "application/vnd.google.colaboratory.intrinsic+json": {
              "type": "dataframe",
              "summary": "{\n  \"name\": \"df_ind\",\n  \"rows\": 8,\n  \"fields\": [\n    {\n      \"column\": \"ID\",\n      \"properties\": {\n        \"dtype\": \"number\",\n        \"std\": 1441.2641214770952,\n        \"min\": 1.0,\n        \"max\": 4000.0,\n        \"num_unique_values\": 6,\n        \"samples\": [\n          4000.0,\n          2000.0,\n          3000.0\n        ],\n        \"semantic_type\": \"\",\n        \"description\": \"\"\n      }\n    },\n    {\n      \"column\": \"Edad\",\n      \"properties\": {\n        \"dtype\": \"number\",\n        \"std\": 1399.124292446631,\n        \"min\": 18.0,\n        \"max\": 4000.0,\n        \"num_unique_values\": 7,\n        \"samples\": [\n          4000.0,\n          47.0,\n          63.0\n        ],\n        \"semantic_type\": \"\",\n        \"description\": \"\"\n      }\n    },\n    {\n      \"column\": \"Grup\",\n      \"properties\": {\n        \"dtype\": \"number\",\n        \"std\": 1413.5066577234688,\n        \"min\": 1.0,\n        \"max\": 4000.0,\n        \"num_unique_values\": 4,\n        \"samples\": [\n          2.0,\n          3.0,\n          4000.0\n        ],\n        \"semantic_type\": \"\",\n        \"description\": \"\"\n      }\n    },\n    {\n      \"column\": \"Provincia\",\n      \"properties\": {\n        \"dtype\": \"number\",\n        \"std\": 1412.3978597710045,\n        \"min\": 1.0,\n        \"max\": 4000.0,\n        \"num_unique_values\": 6,\n        \"samples\": [\n          4000.0,\n          6.0,\n          9.0\n        ],\n        \"semantic_type\": \"\",\n        \"description\": \"\"\n      }\n    },\n    {\n      \"column\": \"Estudios\",\n      \"properties\": {\n        \"dtype\": \"number\",\n        \"std\": null,\n        \"min\": 0.0,\n        \"max\": 0.0,\n        \"num_unique_values\": 1,\n        \"samples\": [\n          0.0\n        ],\n        \"semantic_type\": \"\",\n        \"description\": \"\"\n      }\n    },\n    {\n      \"column\": \"Salud\",\n      \"properties\": {\n        \"dtype\": \"number\",\n        \"std\": 1413.3049160440523,\n        \"min\": 1.0,\n        \"max\": 4000.0,\n        \"num_unique_values\": 5,\n        \"samples\": [\n          3.0\n        ],\n        \"semantic_type\": \"\",\n        \"description\": \"\"\n      }\n    },\n    {\n      \"column\": \"Interes\",\n      \"properties\": {\n        \"dtype\": \"number\",\n        \"std\": 1413.2545961614378,\n        \"min\": 1.0,\n        \"max\": 4000.0,\n        \"num_unique_values\": 6,\n        \"samples\": [\n          4000.0\n        ],\n        \"semantic_type\": \"\",\n        \"description\": \"\"\n      }\n    }\n  ]\n}"
            }
          },
          "metadata": {},
          "execution_count": 97
        }
      ]
    },
    {
      "cell_type": "code",
      "source": [
        "Provincias = {1: \"CABA\", 2: \"GBA\", 3:\"Cordoba\", 4:\"Santa Fe\", 5:\"Mendoza\", 6: \"Interior PBA\", 7:\"NOA\", 8:\"NEA\", 9:\"Sur\"}"
      ],
      "metadata": {
        "id": "_32OsxGeCR2s"
      },
      "execution_count": 103,
      "outputs": []
    },
    {
      "cell_type": "code",
      "source": [
        "print (df_ind[\"Provincia\"].value_counts(ascending=False), Provincias)"
      ],
      "metadata": {
        "colab": {
          "base_uri": "https://localhost:8080/"
        },
        "id": "hbdYvuZBBwc8",
        "outputId": "3309c873-73ac-4b5a-cf83-aaf36aae6247"
      },
      "execution_count": 104,
      "outputs": [
        {
          "output_type": "stream",
          "name": "stdout",
          "text": [
            "Provincia\n",
            "8    679\n",
            "7    665\n",
            "2    600\n",
            "9    590\n",
            "6    516\n",
            "3    250\n",
            "4    250\n",
            "1    250\n",
            "5    200\n",
            "Name: count, dtype: int64 {1: 'CABA', 2: 'GBA', 3: 'Cordoba', 4: 'Santa Fe', 5: 'Mendoza', 6: 'Interior PBA', 7: 'NOA', 8: 'NEA', 9: 'Sur'}\n"
          ]
        }
      ]
    },
    {
      "cell_type": "code",
      "source": [
        "sns.countplot(x=\"Provincia\", data=df_ind)\n",
        "sns.set_style(\"whitegrid\")\n",
        "plt.title(\"Cantidad de personas por provincia\")\n",
        "plt.xlabel(\"Provincia\")\n",
        "plt.ylabel(\"Cantidad\")\n",
        "plt.show()"
      ],
      "metadata": {
        "colab": {
          "base_uri": "https://localhost:8080/",
          "height": 472
        },
        "id": "xnyFEQ-rDOHs",
        "outputId": "59790706-ed86-4ca8-c882-08adafea15d8"
      },
      "execution_count": 110,
      "outputs": [
        {
          "output_type": "display_data",
          "data": {
            "text/plain": [
              "<Figure size 640x480 with 1 Axes>"
            ],
            "image/png": "[encoded data removed]"
          },
          "metadata": {}
        }
      ]
    },
    {
      "cell_type": "code",
      "source": [
        "plt.pie(df_ind[\"Grup\"].unique())"
      ],
      "metadata": {
        "colab": {
          "base_uri": "https://localhost:8080/",
          "height": 510
        },
        "id": "jGiendJQDckm",
        "outputId": "a2c31fac-20c2-41aa-a16c-7af6d2d11269"
      },
      "execution_count": 114,
      "outputs": [
        {
          "output_type": "execute_result",
          "data": {
            "text/plain": [
              "([<matplotlib.patches.Wedge at 0x78d450614790>,\n",
              "  <matplotlib.patches.Wedge at 0x78d4505c9950>,\n",
              "  <matplotlib.patches.Wedge at 0x78d4505cb810>],\n",
              " [Text(0.9526279355804298, 0.5500000148652441, ''),\n",
              "  Text(-0.5500000594609755, 0.9526279098330699, ''),\n",
              "  Text(1.0298943251329445e-07, -1.0999999999999954, '')])"
            ]
          },
          "metadata": {},
          "execution_count": 114
        },
        {
          "output_type": "display_data",
          "data": {
            "text/plain": [
              "<Figure size 640x480 with 1 Axes>"
            ],
            "image/png": "[encoded data removed]"
          },
          "metadata": {}
        }
      ]
    },
    {
      "cell_type": "code",
      "source": [],
      "metadata": {
        "id": "SFM_JL-EEPdF"
      },
      "execution_count": null,
      "outputs": []
    }
  ]
}